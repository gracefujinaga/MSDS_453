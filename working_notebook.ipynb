{
 "cells": [
  {
   "cell_type": "markdown",
   "metadata": {},
   "source": [
    "# Imports"
   ]
  },
  {
   "cell_type": "markdown",
   "metadata": {},
   "source": [
    "notes:\n",
    "\n",
    "scipy==1.12\n",
    "gensim==4.3.1\n",
    "numpy==1.22\n"
   ]
  },
  {
   "cell_type": "code",
   "execution_count": null,
   "metadata": {},
   "outputs": [],
   "source": [
    "%pip install -r requirements.txt"
   ]
  },
  {
   "cell_type": "code",
   "execution_count": 2,
   "metadata": {},
   "outputs": [],
   "source": [
    "#import kagglehub\n",
    "import os\n",
    "import shutil\n",
    "import pandas as pd\n",
    "\n",
    "import numpy as np\n",
    "\n",
    "\n",
    "import matplotlib.pyplot as plt\n",
    "import seaborn as sns\n",
    "\n",
    "import re\n",
    "import string\n",
    "\n",
    "import pandas as pd\n",
    "import re\n",
    "from nltk.corpus import stopwords\n",
    "import nltk\n",
    "from nltk.stem import PorterStemmer\n",
    "\n",
    "from gensim.models import Word2Vec"
   ]
  },
  {
   "cell_type": "markdown",
   "metadata": {},
   "source": [
    "# Starting the actual code\n",
    "\n",
    "Brain Dump:\n",
    "\n",
    "1. download the data\n",
    "2. word2vec\n",
    "3. doc2vec \n",
    "4. explore the corpus and whats going on\n",
    "\n",
    "this is the first pass\n",
    "\n",
    "maybe pull multiple sets of data?\n",
    "\n"
   ]
  },
  {
   "cell_type": "markdown",
   "metadata": {},
   "source": [
    "# EDA and Data Wrangling Dataset 1\n"
   ]
  },
  {
   "cell_type": "code",
   "execution_count": 49,
   "metadata": {},
   "outputs": [
    {
     "name": "stderr",
     "output_type": "stream",
     "text": [
      "82849.21s - pydevd: Sending message related to process being replaced timed-out after 5 seconds\n"
     ]
    },
    {
     "name": "stdout",
     "output_type": "stream",
     "text": [
      "Collecting kaggle\n",
      "  Downloading kaggle-1.6.17.tar.gz (82 kB)\n",
      "  Installing build dependencies ... \u001b[?25ldone\n",
      "\u001b[?25h  Getting requirements to build wheel ... \u001b[?25ldone\n",
      "\u001b[?25h  Preparing metadata (pyproject.toml) ... \u001b[?25ldone\n",
      "\u001b[?25hRequirement already satisfied: six>=1.10 in ./.venv/lib/python3.10/site-packages (from kaggle) (1.17.0)\n",
      "Requirement already satisfied: certifi>=2023.7.22 in ./.venv/lib/python3.10/site-packages (from kaggle) (2025.1.31)\n",
      "Requirement already satisfied: python-dateutil in ./.venv/lib/python3.10/site-packages (from kaggle) (2.9.0.post0)\n",
      "Requirement already satisfied: requests in ./.venv/lib/python3.10/site-packages (from kaggle) (2.32.3)\n",
      "Requirement already satisfied: tqdm in ./.venv/lib/python3.10/site-packages (from kaggle) (4.67.1)\n",
      "Collecting python-slugify (from kaggle)\n",
      "  Downloading python_slugify-8.0.4-py2.py3-none-any.whl.metadata (8.5 kB)\n",
      "Requirement already satisfied: urllib3 in ./.venv/lib/python3.10/site-packages (from kaggle) (2.3.0)\n",
      "Collecting bleach (from kaggle)\n",
      "  Downloading bleach-6.2.0-py3-none-any.whl.metadata (30 kB)\n",
      "Collecting webencodings (from bleach->kaggle)\n",
      "  Downloading webencodings-0.5.1-py2.py3-none-any.whl.metadata (2.1 kB)\n",
      "Collecting text-unidecode>=1.3 (from python-slugify->kaggle)\n",
      "  Downloading text_unidecode-1.3-py2.py3-none-any.whl.metadata (2.4 kB)\n",
      "Requirement already satisfied: charset-normalizer<4,>=2 in ./.venv/lib/python3.10/site-packages (from requests->kaggle) (3.4.1)\n",
      "Requirement already satisfied: idna<4,>=2.5 in ./.venv/lib/python3.10/site-packages (from requests->kaggle) (3.10)\n",
      "Downloading bleach-6.2.0-py3-none-any.whl (163 kB)\n",
      "Downloading python_slugify-8.0.4-py2.py3-none-any.whl (10 kB)\n",
      "Downloading text_unidecode-1.3-py2.py3-none-any.whl (78 kB)\n",
      "Downloading webencodings-0.5.1-py2.py3-none-any.whl (11 kB)\n",
      "Building wheels for collected packages: kaggle\n",
      "  Building wheel for kaggle (pyproject.toml) ... \u001b[?25ldone\n",
      "\u001b[?25h  Created wheel for kaggle: filename=kaggle-1.6.17-py3-none-any.whl size=105839 sha256=99e439534550e4465fb05ef31235eebb2e66f41b0b4ea99608955926e0141cee\n",
      "  Stored in directory: /Users/gracefujinaga/Library/Caches/pip/wheels/9f/af/22/bf406f913dc7506a485e60dce8143741abd0a92a19337d83a3\n",
      "Successfully built kaggle\n",
      "Installing collected packages: webencodings, text-unidecode, python-slugify, bleach, kaggle\n",
      "Successfully installed bleach-6.2.0 kaggle-1.6.17 python-slugify-8.0.4 text-unidecode-1.3 webencodings-0.5.1\n",
      "Note: you may need to restart the kernel to use updated packages.\n"
     ]
    }
   ],
   "source": [
    "%pip install kaggle"
   ]
  },
  {
   "cell_type": "code",
   "execution_count": null,
   "metadata": {},
   "outputs": [],
   "source": [
    "import kagglehub\n",
    "\n",
    "# Download latest version\n",
    "path = kagglehub.dataset_download(\"goyaladi/twitter-dataset\")\n",
    "\n",
    "print(\"Path to dataset files:\", path)\n",
    "\n",
    "destination_path = \"/Users/gracefujinaga/Documents/Northwestern/MSDS_453/MSDS_453/data/twitter\"\n",
    "os.makedirs(destination_path, exist_ok=True)\n",
    "\n",
    "# move downloaded files\n",
    "for file in os.listdir(path):\n",
    "    shutil.move(os.path.join(path, file), destination_path)\n",
    "\n",
    "print(\"Dataset moved to:\", destination_path)"
   ]
  },
  {
   "cell_type": "markdown",
   "metadata": {},
   "source": [
    "# EDA and Data Wrangling Sentiment140 "
   ]
  },
  {
   "cell_type": "code",
   "execution_count": null,
   "metadata": {},
   "outputs": [],
   "source": [
    "import kagglehub\n",
    "\n",
    "# Download latest version\n",
    "path = kagglehub.dataset_download(\"kazanova/sentiment140\")\n",
    "\n",
    "print(\"Path to dataset files:\", path)\n",
    "\n",
    "destination_path = \"/Users/gracefujinaga/Documents/Northwestern/MSDS_453/MSDS_453/data/sentiment140\"\n",
    "os.makedirs(destination_path, exist_ok=True)\n",
    "\n",
    "# move downloaded files\n",
    "for file in os.listdir(path):\n",
    "    shutil.move(os.path.join(path, file), destination_path)\n",
    "\n",
    "print(\"Dataset moved to:\", destination_path)"
   ]
  },
  {
   "cell_type": "code",
   "execution_count": 68,
   "metadata": {},
   "outputs": [
    {
     "name": "stdout",
     "output_type": "stream",
     "text": [
      "   label         ids                          date      flag             user  \\\n",
      "0      0  1467810369  Mon Apr 06 22:19:45 PDT 2009  NO_QUERY  _TheSpecialOne_   \n",
      "1      0  1467810672  Mon Apr 06 22:19:49 PDT 2009  NO_QUERY    scotthamilton   \n",
      "2      0  1467810917  Mon Apr 06 22:19:53 PDT 2009  NO_QUERY         mattycus   \n",
      "3      0  1467811184  Mon Apr 06 22:19:57 PDT 2009  NO_QUERY          ElleCTF   \n",
      "4      0  1467811193  Mon Apr 06 22:19:57 PDT 2009  NO_QUERY           Karoli   \n",
      "\n",
      "                                                text  \n",
      "0  @switchfoot http://twitpic.com/2y1zl - Awww, t...  \n",
      "1  is upset that he can't update his Facebook by ...  \n",
      "2  @Kenichan I dived many times for the ball. Man...  \n",
      "3    my whole body feels itchy and like its on fire   \n",
      "4  @nationwideclass no, it's not behaving at all....  \n"
     ]
    }
   ],
   "source": [
    "#data_sentiment140 = pd.read_csv(\"data/sentiment140/training.1600000.processed.noemoticon.csv\", delimiter=',')\n",
    "\n",
    "\n",
    "column_names = [\"label\", \"ids\", \"date\", \"flag\", \"user\", \"text\"]\n",
    "\n",
    "data_sentiment140 = pd.read_csv(\n",
    "    \"data/sentiment140/training.1600000.processed.noemoticon.csv\",\n",
    "    encoding=\"ISO-8859-1\",  # Adjust encoding if needed\n",
    "    names=column_names,  \n",
    "    header=None  # Treat all rows as data, not as headers\n",
    ")\n",
    "\n",
    "# Check the first few rows\n",
    "print(data_sentiment140.head())"
   ]
  },
  {
   "cell_type": "code",
   "execution_count": 69,
   "metadata": {},
   "outputs": [],
   "source": [
    "data = data_sentiment140.copy()"
   ]
  },
  {
   "cell_type": "markdown",
   "metadata": {},
   "source": [
    "# Load\n",
    " Small Dataset\n"
   ]
  },
  {
   "cell_type": "code",
   "execution_count": 2,
   "metadata": {},
   "outputs": [
    {
     "name": "stdout",
     "output_type": "stream",
     "text": [
      "Warning: Looks like you're using an outdated `kagglehub` version, please consider updating (latest version: 0.3.7)\n",
      "Path to dataset files: /Users/gracefujinaga/.cache/kagglehub/datasets/subhajeetdas/hate-comment/versions/1\n",
      "Dataset moved to: /Users/gracefujinaga/Documents/Northwestern/MSDS_453/MSDS_453/data\n"
     ]
    }
   ],
   "source": [
    "# download the data\n",
    "# Download latest version\n",
    "path = kagglehub.dataset_download(\"subhajeetdas/hate-comment\")\n",
    "\n",
    "print(\"Path to dataset files:\", path)\n",
    "\n",
    "destination_path = \"/Users/gracefujinaga/Documents/Northwestern/MSDS_453/MSDS_453/data\"\n",
    "os.makedirs(destination_path, exist_ok=True)\n",
    "\n",
    "# move downloaded files\n",
    "for file in os.listdir(path):\n",
    "    shutil.move(os.path.join(path, file), destination_path)\n",
    "\n",
    "print(\"Dataset moved to:\", destination_path)"
   ]
  },
  {
   "cell_type": "code",
   "execution_count": 3,
   "metadata": {},
   "outputs": [],
   "source": [
    "data = pd.read_csv('/Users/gracefujinaga/Documents/Northwestern/MSDS_453/MSDS_453/data/hate.csv')"
   ]
  },
  {
   "cell_type": "code",
   "execution_count": 4,
   "metadata": {},
   "outputs": [],
   "source": [
    "data.drop(columns=['0'], inplace=True)\n"
   ]
  },
  {
   "cell_type": "code",
   "execution_count": 5,
   "metadata": {},
   "outputs": [
    {
     "data": {
      "text/html": [
       "<div>\n",
       "<style scoped>\n",
       "    .dataframe tbody tr th:only-of-type {\n",
       "        vertical-align: middle;\n",
       "    }\n",
       "\n",
       "    .dataframe tbody tr th {\n",
       "        vertical-align: top;\n",
       "    }\n",
       "\n",
       "    .dataframe thead th {\n",
       "        text-align: right;\n",
       "    }\n",
       "</style>\n",
       "<table border=\"1\" class=\"dataframe\">\n",
       "  <thead>\n",
       "    <tr style=\"text-align: right;\">\n",
       "      <th></th>\n",
       "      <th>comment</th>\n",
       "      <th>label</th>\n",
       "    </tr>\n",
       "  </thead>\n",
       "  <tbody>\n",
       "    <tr>\n",
       "      <th>0</th>\n",
       "      <td>dalits are lowlives</td>\n",
       "      <td>N</td>\n",
       "    </tr>\n",
       "    <tr>\n",
       "      <th>1</th>\n",
       "      <td>gay people are a burden to our society</td>\n",
       "      <td>N</td>\n",
       "    </tr>\n",
       "    <tr>\n",
       "      <th>2</th>\n",
       "      <td>Arabs are not welcome</td>\n",
       "      <td>N</td>\n",
       "    </tr>\n",
       "    <tr>\n",
       "      <th>3</th>\n",
       "      <td>I'm not saying we should actually eliminate he...</td>\n",
       "      <td>N</td>\n",
       "    </tr>\n",
       "    <tr>\n",
       "      <th>4</th>\n",
       "      <td>bananas are for black people</td>\n",
       "      <td>N</td>\n",
       "    </tr>\n",
       "    <tr>\n",
       "      <th>...</th>\n",
       "      <td>...</td>\n",
       "      <td>...</td>\n",
       "    </tr>\n",
       "    <tr>\n",
       "      <th>41139</th>\n",
       "      <td>Indian culture is so backwards</td>\n",
       "      <td>N</td>\n",
       "    </tr>\n",
       "    <tr>\n",
       "      <th>41140</th>\n",
       "      <td>Women don't want equality, they just want to b...</td>\n",
       "      <td>N</td>\n",
       "    </tr>\n",
       "    <tr>\n",
       "      <th>41141</th>\n",
       "      <td>fuck covid</td>\n",
       "      <td>P</td>\n",
       "    </tr>\n",
       "    <tr>\n",
       "      <th>41142</th>\n",
       "      <td>This computer is garbage</td>\n",
       "      <td>P</td>\n",
       "    </tr>\n",
       "    <tr>\n",
       "      <th>41143</th>\n",
       "      <td>The only good Muslim is a dead one</td>\n",
       "      <td>N</td>\n",
       "    </tr>\n",
       "  </tbody>\n",
       "</table>\n",
       "<p>41144 rows × 2 columns</p>\n",
       "</div>"
      ],
      "text/plain": [
       "                                                 comment label\n",
       "0                                    dalits are lowlives     N\n",
       "1                 gay people are a burden to our society     N\n",
       "2                                  Arabs are not welcome     N\n",
       "3      I'm not saying we should actually eliminate he...     N\n",
       "4                           bananas are for black people     N\n",
       "...                                                  ...   ...\n",
       "41139                     Indian culture is so backwards     N\n",
       "41140  Women don't want equality, they just want to b...     N\n",
       "41141                                         fuck covid     P\n",
       "41142                           This computer is garbage     P\n",
       "41143                 The only good Muslim is a dead one     N\n",
       "\n",
       "[41144 rows x 2 columns]"
      ]
     },
     "execution_count": 5,
     "metadata": {},
     "output_type": "execute_result"
    }
   ],
   "source": [
    "data"
   ]
  },
  {
   "cell_type": "code",
   "execution_count": 22,
   "metadata": {},
   "outputs": [
    {
     "name": "stderr",
     "output_type": "stream",
     "text": [
      "/var/folders/zv/4f9cw9vs6tjbvz5bh2k07w_40000gn/T/ipykernel_19929/633069675.py:17: UserWarning: set_ticklabels() should only be used with a fixed number of ticks, i.e. after set_ticks() or using a FixedLocator.\n",
      "  ax.set_xticklabels([\"Hateful\", \"Non Hateful\", \"Other\"])\n"
     ]
    },
    {
     "data": {
      "image/png": "[encoded data removed]",
      "text/plain": [
       "<Figure size 800x500 with 1 Axes>"
      ]
     },
     "metadata": {},
     "output_type": "display_data"
    }
   ],
   "source": [
    "plt.figure(figsize=(8, 5))\n",
    "ax = sns.barplot(data['label'].value_counts(), color=\"Blue\")\n",
    "\n",
    "# Labels and title\n",
    "plt.xlabel(\"Type of Comment\")\n",
    "plt.ylabel(\"Number of Comments\")\n",
    "plt.title(\"Distribution of Types of Comments\")\n",
    "\n",
    "for p in ax.patches:\n",
    "    ax.annotate(f'{int(p.get_height())}', \n",
    "                (p.get_x() + p.get_width() / 2., p.get_height()), \n",
    "                ha='center', va='center', \n",
    "                fontsize=12, color='Black', \n",
    "                xytext=(0, 5), textcoords='offset points')\n",
    "\n",
    "# Customize x-axis labels\n",
    "ax.set_xticklabels([\"Hateful\", \"Non Hateful\", \"Other\"])\n",
    "\n",
    "\n",
    "# Show plot\n",
    "plt.show()"
   ]
  },
  {
   "cell_type": "code",
   "execution_count": 7,
   "metadata": {},
   "outputs": [],
   "source": [
    "def clean_comment(comment): \n",
    "\n",
    "    #split document into individual words\n",
    "    tokens=comment.split()\n",
    "    re_punc = re.compile('[%s]' % re.escape(string.punctuation))\n",
    "    \n",
    "    # remove punctuation from each word\n",
    "    tokens = [re_punc.sub('', w) for w in tokens]\n",
    "\n",
    "    # # remove remaining tokens that are not alphabetic\n",
    "    # tokens = [word for word in tokens if word.isalpha()]\n",
    "\n",
    "    # # filter out short tokens\n",
    "    # tokens = [word for word in tokens if len(word) > 4]\n",
    "\n",
    "    #lowercase all words\n",
    "    tokens = [word.lower() for word in tokens]\n",
    "\n",
    "    # filter out stop words\n",
    "    stop_words = set(stopwords.words('english'))\n",
    "    tokens = [w for w in tokens if not w in stop_words]    \n",
    "\n",
    "    # word stemming    \n",
    "    ps=PorterStemmer()\n",
    "    tokens=[ps.stem(word) for word in tokens]\n",
    "    \n",
    "    return tokens\n"
   ]
  },
  {
   "cell_type": "code",
   "execution_count": 8,
   "metadata": {},
   "outputs": [
    {
     "data": {
      "text/html": [
       "<div>\n",
       "<style scoped>\n",
       "    .dataframe tbody tr th:only-of-type {\n",
       "        vertical-align: middle;\n",
       "    }\n",
       "\n",
       "    .dataframe tbody tr th {\n",
       "        vertical-align: top;\n",
       "    }\n",
       "\n",
       "    .dataframe thead th {\n",
       "        text-align: right;\n",
       "    }\n",
       "</style>\n",
       "<table border=\"1\" class=\"dataframe\">\n",
       "  <thead>\n",
       "    <tr style=\"text-align: right;\">\n",
       "      <th></th>\n",
       "      <th>comment</th>\n",
       "      <th>label</th>\n",
       "    </tr>\n",
       "  </thead>\n",
       "  <tbody>\n",
       "    <tr>\n",
       "      <th>0</th>\n",
       "      <td>dalits are lowlives</td>\n",
       "      <td>N</td>\n",
       "    </tr>\n",
       "    <tr>\n",
       "      <th>1</th>\n",
       "      <td>gay people are a burden to our society</td>\n",
       "      <td>N</td>\n",
       "    </tr>\n",
       "    <tr>\n",
       "      <th>2</th>\n",
       "      <td>Arabs are not welcome</td>\n",
       "      <td>N</td>\n",
       "    </tr>\n",
       "    <tr>\n",
       "      <th>3</th>\n",
       "      <td>I'm not saying we should actually eliminate he...</td>\n",
       "      <td>N</td>\n",
       "    </tr>\n",
       "    <tr>\n",
       "      <th>4</th>\n",
       "      <td>bananas are for black people</td>\n",
       "      <td>N</td>\n",
       "    </tr>\n",
       "    <tr>\n",
       "      <th>...</th>\n",
       "      <td>...</td>\n",
       "      <td>...</td>\n",
       "    </tr>\n",
       "    <tr>\n",
       "      <th>41139</th>\n",
       "      <td>Indian culture is so backwards</td>\n",
       "      <td>N</td>\n",
       "    </tr>\n",
       "    <tr>\n",
       "      <th>41140</th>\n",
       "      <td>Women don't want equality, they just want to b...</td>\n",
       "      <td>N</td>\n",
       "    </tr>\n",
       "    <tr>\n",
       "      <th>41141</th>\n",
       "      <td>fuck covid</td>\n",
       "      <td>P</td>\n",
       "    </tr>\n",
       "    <tr>\n",
       "      <th>41142</th>\n",
       "      <td>This computer is garbage</td>\n",
       "      <td>P</td>\n",
       "    </tr>\n",
       "    <tr>\n",
       "      <th>41143</th>\n",
       "      <td>The only good Muslim is a dead one</td>\n",
       "      <td>N</td>\n",
       "    </tr>\n",
       "  </tbody>\n",
       "</table>\n",
       "<p>41144 rows × 2 columns</p>\n",
       "</div>"
      ],
      "text/plain": [
       "                                                 comment label\n",
       "0                                    dalits are lowlives     N\n",
       "1                 gay people are a burden to our society     N\n",
       "2                                  Arabs are not welcome     N\n",
       "3      I'm not saying we should actually eliminate he...     N\n",
       "4                           bananas are for black people     N\n",
       "...                                                  ...   ...\n",
       "41139                     Indian culture is so backwards     N\n",
       "41140  Women don't want equality, they just want to b...     N\n",
       "41141                                         fuck covid     P\n",
       "41142                           This computer is garbage     P\n",
       "41143                 The only good Muslim is a dead one     N\n",
       "\n",
       "[41144 rows x 2 columns]"
      ]
     },
     "execution_count": 8,
     "metadata": {},
     "output_type": "execute_result"
    }
   ],
   "source": [
    "data"
   ]
  },
  {
   "cell_type": "code",
   "execution_count": 23,
   "metadata": {},
   "outputs": [
    {
     "data": {
      "text/html": [
       "<div>\n",
       "<style scoped>\n",
       "    .dataframe tbody tr th:only-of-type {\n",
       "        vertical-align: middle;\n",
       "    }\n",
       "\n",
       "    .dataframe tbody tr th {\n",
       "        vertical-align: top;\n",
       "    }\n",
       "\n",
       "    .dataframe thead th {\n",
       "        text-align: right;\n",
       "    }\n",
       "</style>\n",
       "<table border=\"1\" class=\"dataframe\">\n",
       "  <thead>\n",
       "    <tr style=\"text-align: right;\">\n",
       "      <th></th>\n",
       "      <th>comment</th>\n",
       "      <th>label</th>\n",
       "      <th>cleaned_comment</th>\n",
       "      <th>comment_length</th>\n",
       "      <th>comment_length_clean</th>\n",
       "    </tr>\n",
       "  </thead>\n",
       "  <tbody>\n",
       "    <tr>\n",
       "      <th>0</th>\n",
       "      <td>dalits are lowlives</td>\n",
       "      <td>N</td>\n",
       "      <td>[dalit, lowliv]</td>\n",
       "      <td>19</td>\n",
       "      <td>2</td>\n",
       "    </tr>\n",
       "    <tr>\n",
       "      <th>1</th>\n",
       "      <td>gay people are a burden to our society</td>\n",
       "      <td>N</td>\n",
       "      <td>[gay, peopl, burden, societi]</td>\n",
       "      <td>38</td>\n",
       "      <td>4</td>\n",
       "    </tr>\n",
       "    <tr>\n",
       "      <th>2</th>\n",
       "      <td>Arabs are not welcome</td>\n",
       "      <td>N</td>\n",
       "      <td>[arab, welcom]</td>\n",
       "      <td>21</td>\n",
       "      <td>2</td>\n",
       "    </tr>\n",
       "    <tr>\n",
       "      <th>3</th>\n",
       "      <td>I'm not saying we should actually eliminate he...</td>\n",
       "      <td>N</td>\n",
       "      <td>[im, say, actual, elimin, heeb, wish, natur, b...</td>\n",
       "      <td>93</td>\n",
       "      <td>9</td>\n",
       "    </tr>\n",
       "    <tr>\n",
       "      <th>4</th>\n",
       "      <td>bananas are for black people</td>\n",
       "      <td>N</td>\n",
       "      <td>[banana, black, peopl]</td>\n",
       "      <td>28</td>\n",
       "      <td>3</td>\n",
       "    </tr>\n",
       "    <tr>\n",
       "      <th>...</th>\n",
       "      <td>...</td>\n",
       "      <td>...</td>\n",
       "      <td>...</td>\n",
       "      <td>...</td>\n",
       "      <td>...</td>\n",
       "    </tr>\n",
       "    <tr>\n",
       "      <th>41136</th>\n",
       "      <td>Mandatory masks should be for mozzies only</td>\n",
       "      <td>N</td>\n",
       "      <td>[mandatori, mask, mozzi]</td>\n",
       "      <td>42</td>\n",
       "      <td>3</td>\n",
       "    </tr>\n",
       "    <tr>\n",
       "      <th>41137</th>\n",
       "      <td>Women are dishonest</td>\n",
       "      <td>N</td>\n",
       "      <td>[women, dishonest]</td>\n",
       "      <td>19</td>\n",
       "      <td>2</td>\n",
       "    </tr>\n",
       "    <tr>\n",
       "      <th>41139</th>\n",
       "      <td>Indian culture is so backwards</td>\n",
       "      <td>N</td>\n",
       "      <td>[indian, cultur, backward]</td>\n",
       "      <td>30</td>\n",
       "      <td>3</td>\n",
       "    </tr>\n",
       "    <tr>\n",
       "      <th>41140</th>\n",
       "      <td>Women don't want equality, they just want to b...</td>\n",
       "      <td>N</td>\n",
       "      <td>[women, dont, want, equal, want, charg]</td>\n",
       "      <td>57</td>\n",
       "      <td>6</td>\n",
       "    </tr>\n",
       "    <tr>\n",
       "      <th>41143</th>\n",
       "      <td>The only good Muslim is a dead one</td>\n",
       "      <td>N</td>\n",
       "      <td>[good, muslim, dead, one]</td>\n",
       "      <td>34</td>\n",
       "      <td>4</td>\n",
       "    </tr>\n",
       "  </tbody>\n",
       "</table>\n",
       "<p>22158 rows × 5 columns</p>\n",
       "</div>"
      ],
      "text/plain": [
       "                                                 comment label  \\\n",
       "0                                    dalits are lowlives     N   \n",
       "1                 gay people are a burden to our society     N   \n",
       "2                                  Arabs are not welcome     N   \n",
       "3      I'm not saying we should actually eliminate he...     N   \n",
       "4                           bananas are for black people     N   \n",
       "...                                                  ...   ...   \n",
       "41136         Mandatory masks should be for mozzies only     N   \n",
       "41137                                Women are dishonest     N   \n",
       "41139                     Indian culture is so backwards     N   \n",
       "41140  Women don't want equality, they just want to b...     N   \n",
       "41143                 The only good Muslim is a dead one     N   \n",
       "\n",
       "                                         cleaned_comment  comment_length  \\\n",
       "0                                        [dalit, lowliv]              19   \n",
       "1                          [gay, peopl, burden, societi]              38   \n",
       "2                                         [arab, welcom]              21   \n",
       "3      [im, say, actual, elimin, heeb, wish, natur, b...              93   \n",
       "4                                 [banana, black, peopl]              28   \n",
       "...                                                  ...             ...   \n",
       "41136                           [mandatori, mask, mozzi]              42   \n",
       "41137                                 [women, dishonest]              19   \n",
       "41139                         [indian, cultur, backward]              30   \n",
       "41140            [women, dont, want, equal, want, charg]              57   \n",
       "41143                          [good, muslim, dead, one]              34   \n",
       "\n",
       "       comment_length_clean  \n",
       "0                         2  \n",
       "1                         4  \n",
       "2                         2  \n",
       "3                         9  \n",
       "4                         3  \n",
       "...                     ...  \n",
       "41136                     3  \n",
       "41137                     2  \n",
       "41139                     3  \n",
       "41140                     6  \n",
       "41143                     4  \n",
       "\n",
       "[22158 rows x 5 columns]"
      ]
     },
     "execution_count": 23,
     "metadata": {},
     "output_type": "execute_result"
    }
   ],
   "source": [
    "filtered_df = data[data['label'] == 'N']\n",
    "filtered_df\n"
   ]
  },
  {
   "cell_type": "markdown",
   "metadata": {},
   "source": [
    "N: gay people are a burden to our society\n",
    "\n",
    "P(non hate): \n",
    "- this drink sucks, it's awful\n",
    "- fuck covid\n",
    "\n",
    "N(hate):\n",
    "- gay people are a burden to our society\n",
    "- Arabs are not welcome\n",
    "\n"
   ]
  },
  {
   "cell_type": "code",
   "execution_count": null,
   "metadata": {},
   "outputs": [],
   "source": []
  },
  {
   "cell_type": "code",
   "execution_count": 9,
   "metadata": {},
   "outputs": [
    {
     "name": "stdout",
     "output_type": "stream",
     "text": [
      "Average Length: 12.787064942640482\n",
      "Max Length: 223\n",
      "Min Length: 1\n"
     ]
    }
   ],
   "source": [
    "# Apply the clean_comment function to the 'comment' column\n",
    "data['cleaned_comment'] = data['comment'].apply(clean_comment)\n",
    "\n",
    "# Compute comment lengths after cleaning\n",
    "data['comment_length'] = data['cleaned_comment'].apply(len)\n",
    "\n",
    "# Get statistics\n",
    "average_length = data['comment_length'].mean()\n",
    "max_length = data['comment_length'].max()\n",
    "min_length = data['comment_length'].min()\n",
    "\n",
    "# Display results\n",
    "print(f\"Average Length: {average_length}\")\n",
    "print(f\"Max Length: {max_length}\")\n",
    "print(f\"Min Length: {min_length}\")\n"
   ]
  },
  {
   "cell_type": "code",
   "execution_count": 12,
   "metadata": {},
   "outputs": [
    {
     "name": "stdout",
     "output_type": "stream",
     "text": [
      "Average Length: 134.29642232160217\n",
      "Max Length: 2374\n",
      "Min Length: 4\n",
      "Average Length: 12.787064942640482\n",
      "Max Length: 223\n",
      "Min Length: 1\n"
     ]
    }
   ],
   "source": [
    "\n",
    "# Compute comment lengths\n",
    "\n",
    "data['comment_length'] = data['comment'].apply(len)\n",
    "\n",
    "# Get statistics\n",
    "average_length = data['comment_length'].mean()\n",
    "max_length = data['comment_length'].max()\n",
    "min_length = data['comment_length'].min()\n",
    "\n",
    "# Display results\n",
    "print(f\"Average Length: {average_length}\")\n",
    "print(f\"Max Length: {max_length}\")\n",
    "print(f\"Min Length: {min_length}\")\n",
    "\n",
    "\n",
    "data['comment_length_clean'] = data['cleaned_comment'].apply(len)\n",
    "\n",
    "# Get statistics\n",
    "average_length = data['comment_length_clean'].mean()\n",
    "max_length = data['comment_length_clean'].max()\n",
    "min_length = data['comment_length_clean'].min()\n",
    "\n",
    "# Display results\n",
    "print(f\"Average Length: {average_length}\")\n",
    "print(f\"Max Length: {max_length}\")\n",
    "print(f\"Min Length: {min_length}\")\n",
    "\n"
   ]
  },
  {
   "cell_type": "code",
   "execution_count": null,
   "metadata": {},
   "outputs": [
    {
     "data": {
      "image/png": "[encoded data removed]",
      "text/plain": [
       "<Figure size 1400x500 with 2 Axes>"
      ]
     },
     "metadata": {},
     "output_type": "display_data"
    }
   ],
   "source": [
    "\n",
    "\n",
    "# Create a figure with two subplots side by side\n",
    "fig, axes = plt.subplots(1, 2, figsize=(14, 5))\n",
    "\n",
    "# Plot first histogram\n",
    "sns.histplot(data['comment_length'], bins=10, kde=True, color='blue', ax=axes[0])\n",
    "axes[0].set_xlabel(\"Comment Length\")\n",
    "axes[0].set_ylabel(\"Frequency\")\n",
    "axes[0].set_title(\"Distribution of Comment Lengths (Before Cleaning)\")\n",
    "axes[0].grid(axis='y', linestyle='--', alpha=0.7)\n",
    "\n",
    "# Plot second histogram\n",
    "sns.histplot(data['comment_length_clean'], bins=10, kde=True, color='blue', ax=axes[1])\n",
    "axes[1].set_xlabel(\"Comment Length\")\n",
    "axes[1].set_ylabel(\"Frequency\")\n",
    "axes[1].set_title(\"Distribution of Comment Lengths (After Cleaning)\")\n",
    "axes[1].grid(axis='y', linestyle='--', alpha=0.7)\n",
    "\n",
    "# Adjust layout and show plot\n",
    "plt.tight_layout()\n",
    "plt.show()\n"
   ]
  },
  {
   "cell_type": "markdown",
   "metadata": {},
   "source": [
    "# Words"
   ]
  },
  {
   "cell_type": "code",
   "execution_count": 47,
   "metadata": {},
   "outputs": [
    {
     "data": {
      "image/png": "[encoded data removed]",
      "text/plain": [
       "<Figure size 1000x500 with 1 Axes>"
      ]
     },
     "metadata": {},
     "output_type": "display_data"
    }
   ],
   "source": [
    "# figure out the word count\n",
    "\n",
    "from collections import Counter\n",
    "\n",
    "\n",
    "# Count word frequencies\n",
    "word_counts = Counter(filtered_words)\n",
    "\n",
    "# Convert to DataFrame for plotting\n",
    "word_freq_df = pd.DataFrame(word_counts.items(), columns=['word', 'count'])\n",
    "\n",
    "# Sort by frequency\n",
    "word_freq_df = word_freq_df.sort_values(by='count', ascending=False)\n",
    "word_freq_df = word_freq_df.iloc[:20]\n",
    "\n",
    "# Plot histogram\n",
    "plt.figure(figsize=(10, 5))\n",
    "sns.barplot(x=word_freq_df['word'], y=word_freq_df['count'], color='blue')\n",
    "\n",
    "# Labels and title\n",
    "plt.xlabel(\"Words\")\n",
    "plt.ylabel(\"Frequency\")\n",
    "plt.title(\"Word Frequency Distribution (Top 20 Words)\")\n",
    "plt.xticks(rotation=45)  # Rotate words for better readability\n",
    "plt.grid(axis='y', linestyle='--', alpha=0.7)\n",
    "\n",
    "# Show plot\n",
    "plt.show()\n",
    "\n",
    "\n",
    "\n"
   ]
  },
  {
   "cell_type": "markdown",
   "metadata": {},
   "source": [
    "## Handling word embeddings\n",
    "\n",
    "Probably:\n",
    "- make the max length 200 based on the histogram\n",
    "- use word2vec\n",
    "- TF-IDF\n",
    "- work on seeing how elmo/other things work\n"
   ]
  },
  {
   "cell_type": "code",
   "execution_count": null,
   "metadata": {},
   "outputs": [],
   "source": [
    "# lets crop each comment to 200 words\n",
    "\n",
    "# then run some of the cleaning stuff on it --> then do that "
   ]
  },
  {
   "cell_type": "markdown",
   "metadata": {},
   "source": [
    "#### cluster\n",
    "\n",
    "#### word emebeddings:\n",
    " - Word2Vec\n",
    " - GloVe\n",
    " - Elmo\n",
    " - Bert"
   ]
  },
  {
   "cell_type": "code",
   "execution_count": null,
   "metadata": {},
   "outputs": [],
   "source": [
    "# cluster\n",
    "\n",
    "# word emebeddings:\n",
    "#"
   ]
  }
 ],
 "metadata": {
  "kernelspec": {
   "display_name": ".venv",
   "language": "python",
   "name": "python3"
  },
  "language_info": {
   "codemirror_mode": {
    "name": "ipython",
    "version": 3
   },
   "file_extension": ".py",
   "mimetype": "text/x-python",
   "name": "python",
   "nbconvert_exporter": "python",
   "pygments_lexer": "ipython3",
   "version": "3.10.6"
  }
 },
 "nbformat": 4,
 "nbformat_minor": 2
}
